{
 "cells": [
  {
   "cell_type": "markdown",
   "metadata": {},
   "source": [
    "## Solving set of polynomial equations using Homotopy Continuation"
   ]
  },
  {
   "cell_type": "markdown",
   "metadata": {},
   "source": [
    "In the following example I have shown how this can be done,  ideally we would want the number of equations to be the same as the number of variables. When this is true n = length of list of input functions. To be on the safer side though, we can enter n manually or depending the the number of point masses we solve for (then n becomes 2n)."
   ]
  },
  {
   "cell_type": "code",
   "execution_count": 5,
   "metadata": {},
   "outputs": [
    {
     "name": "stderr",
     "output_type": "stream",
     "text": [
      "\u001b[32m\u001b[1m   Resolving\u001b[22m\u001b[39m package versions...\n",
      "\u001b[32m\u001b[1m    Updating\u001b[22m\u001b[39m `C:\\Users\\Maan\\.julia\\environments\\v1.10\\Project.toml`\n",
      "  \u001b[90m[7c1d4256] \u001b[39m\u001b[92m+ DynamicPolynomials v0.6.1\u001b[39m\n",
      "\u001b[32m\u001b[1m  No Changes\u001b[22m\u001b[39m to `C:\\Users\\Maan\\.julia\\environments\\v1.10\\Manifest.toml`\n",
      "\u001b[32m\u001b[1m   Resolving\u001b[22m\u001b[39m package versions...\n",
      "\u001b[32m\u001b[1m  No Changes\u001b[22m\u001b[39m to `C:\\Users\\Maan\\.julia\\environments\\v1.10\\Project.toml`\n",
      "\u001b[32m\u001b[1m  No Changes\u001b[22m\u001b[39m to `C:\\Users\\Maan\\.julia\\environments\\v1.10\\Manifest.toml`\n"
     ]
    }
   ],
   "source": [
    "import Pkg; Pkg.add(\"DynamicPolynomials\")\n",
    "import Pkg; Pkg.add(\"HomotopyContinuation\")\n",
    "\n",
    "using HomotopyContinuation\n",
    "using LinearAlgebra\n",
    "using DynamicPolynomials"
   ]
  },
  {
   "cell_type": "code",
   "execution_count": 6,
   "metadata": {},
   "outputs": [
    {
     "ename": "LoadError",
     "evalue": "UndefVarError: `u1` not defined",
     "output_type": "error",
     "traceback": [
      "UndefVarError: `u1` not defined",
      "",
      "Stacktrace:",
      " [1] top-level scope",
      "   @ In[6]:18"
     ]
    }
   ],
   "source": [
    "\n",
    "n = 4 # number of unknown variables\n",
    "\n",
    "# Define parameters\n",
    "δ = 0.1    # damping coefficient\n",
    "ω = 1.5    # frequency\n",
    "α = 1.0    # linear stiffness\n",
    "β = 0.04   # nonlinearity\n",
    "γ = 1.0    # driving force amplitude\n",
    "\n",
    "# declare the variables \n",
    "for i in 1:n÷2\n",
    "    @polyvar u[i] v[i]\n",
    "end\n",
    "@polyvar f[1:n]\n",
    "\n",
    "# this input funcs will take Hew's function as an input containing all the polynomial equations\n",
    "input_funcs = [(ω^2 - α)*u1 - δ*ω*v1 + γ - (3/4)*β*(u1^3 + u1*v1^2), ω*δ*u1 + (ω^2 - α)*v1 - (3/4)*β*(v1^3 + u1^2*v1)]\n",
    "\n",
    "# define the variable f1 to have eqn 1 and f2 to have eqn 2\n",
    "f = input_funcs\n",
    "\n",
    "# Define the system as a polynomial system\n",
    "system = HomotopyContinuation.System(f)\n",
    "\n",
    "# solve the system\n",
    "result = HomotopyContinuation.solve(system)\n",
    "\n",
    "# # display non singular solutions\n",
    "# for sol in result\n",
    "#     if HomotopyContinuation.is_nonsingular(sol)\n",
    "#         println(sol)\n",
    "#     end\n",
    "# end\n",
    "\n",
    "# display real solutions\n",
    "for sol in result\n",
    "    if HomotopyContinuation.is_real(sol)\n",
    "        println(sol)\n",
    "    end\n",
    "end\n",
    "\n"
   ]
  },
  {
   "cell_type": "markdown",
   "metadata": {},
   "source": [
    "This was run with 1 mass, hence one set of parameter values, in the case this is not true we can write a function to take a list containing these values and then later use in the polynomial equations. "
   ]
  },
  {
   "cell_type": "markdown",
   "metadata": {},
   "source": []
  },
  {
   "cell_type": "code",
   "execution_count": 7,
   "metadata": {},
   "outputs": [
    {
     "name": "stdout",
     "output_type": "stream",
     "text": [
      "\u001b[32mTracking 81 paths... 100%|██████████████████████████████| Time: 0:00:06\u001b[39m\n",
      "\u001b[34m  # paths tracked:                  81\u001b[39m\n",
      "\u001b[34m  # non-singular solutions (real):  9 (3)\u001b[39m\n",
      "\u001b[34m  # singular endpoints (real):      0 (0)\u001b[39m\n",
      "\u001b[34m  # total solutions (real):         9 (3)\u001b[39m\n",
      "PathResult:\n",
      " • return_code → :success\n",
      " • solution → ComplexF64[-0.8007933510765409 + 0.0im, -0.909297209414843 - 1.793662034335766e-43im, 0.09761994677037714 - 2.802596928649634e-45im, 0.2413880779738752 + 0.0im]\n",
      " • accuracy → 2.0201e-16\n",
      " • residual → 4.1633e-17\n",
      " • condition_jacobian → 4.9136\n",
      " • steps → 76 / 0\n",
      " • extended_precision → false\n",
      " • path_number → 55\n",
      "\n",
      "PathResult:\n",
      " • return_code → :success\n",
      " • solution → ComplexF64[-2.0000000000000075 - 2.7733391199176196e-32im, -0.9092972094148429 + 0.0im, 5.999999999999997 - 6.548161810916602e-33im, 0.2413880779738752 + 0.0im]\n",
      " • accuracy → 3.7063e-15\n",
      " • residual → 1.7764e-15\n",
      " • condition_jacobian → 85.588\n",
      " • steps → 85 / 1\n",
      " • extended_precision → false\n",
      " • path_number → 58\n",
      "\n",
      "PathResult:\n",
      " • return_code → :success\n",
      " • solution → ComplexF64[1.3007933510765368 + 4.132471082954664e-62im, -0.9092972094148429 + 4.464794497196387e-103im, 6.402380053229623 - 6.077163357286271e-63im, 0.24138807797387518 + 1.7859177988785547e-102im]\n",
      " • accuracy → 4.9636e-17\n",
      " • residual → 2.2204e-16\n",
      " • condition_jacobian → 198.13\n",
      " • steps → 192 / 0\n",
      " • extended_precision → false\n",
      " • path_number → 73\n",
      "\n"
     ]
    }
   ],
   "source": [
    "n = 4 # number of unknown variables\n",
    "\n",
    "# declare the variables \n",
    "@polyvar u[1:n÷2] v[1:n÷2]\n",
    "@polyvar f[1:n]\n",
    "\n",
    "# declare the parameters\n",
    "@polyvar α[1:n÷2]\n",
    "@polyvar β[1:n÷2]\n",
    "@polyvar γ[1:n÷2]\n",
    "@polyvar δ[1:n÷2]\n",
    "\n",
    "\n",
    "# this input funcs will take Hew's function as an input containing all the polynomial equations\n",
    "input_alpha = [1.0, 1.1]\n",
    "input_beta = [0.04, 0.03]\n",
    "input_gamma = [1.0, 1.1]\n",
    "input_delta = [0.1, 0.2]\n",
    "input_omega = [1.5]\n",
    "\n",
    "α = input_alpha\n",
    "β = input_beta\n",
    "γ = input_gamma\n",
    "δ = input_delta\n",
    "ω = input_omega\n",
    "\n",
    "input_function = [\n",
    "    (ω[1]^2 - α[1])*u[1] - δ[1]*ω[1]*v[1] + γ[1] - (3/4)*β[1]*(u[1]^3 + u[1]*v[1]^2),\n",
    "    (ω[1]^2 - α[2])*u[2] - δ[2]*ω[1]*v[2] + γ[2] - (3/4)*β[2]*(u[2]^3 + u[2]*v[2]^2),\n",
    "    ω[1]*δ[1]*u[1] + (ω[1]^2 - α[1])*v[1] - (3/4)*β[1]*(v[1]^3 + u[1]^2*v[1]),\n",
    "    ω[1]*δ[2]*u[2] + (ω[1]^2 - α[2])*v[2] - (3/4)*β[2]*(v[2]^3 + u[2]^2*v[2])\n",
    "]\n",
    "\n",
    "f = input_function\n",
    "\n",
    "# Define the system as a polynomial system\n",
    "system = HomotopyContinuation.System(f)\n",
    "\n",
    "# solve the system\n",
    "result = HomotopyContinuation.solve(system)\n",
    "\n",
    "# display real solutions\n",
    "for sol in result\n",
    "    if HomotopyContinuation.is_real(sol)\n",
    "        println(sol)\n",
    "    end\n",
    "end\n",
    "\n",
    "\n",
    "\n",
    "\n",
    "\n",
    "\n",
    "\n"
   ]
  },
  {
   "cell_type": "markdown",
   "metadata": {},
   "source": [
    "### Function Implementation ###\n",
    "\n",
    "Check PolynomEqSolverFn.jl if you wish to import the function."
   ]
  },
  {
   "cell_type": "code",
   "execution_count": 1,
   "metadata": {},
   "outputs": [
    {
     "ename": "LoadError",
     "evalue": "LoadError: UndefVarError: `@polyvar` not defined\nin expression starting at In[1]:5",
     "output_type": "error",
     "traceback": [
      "LoadError: UndefVarError: `@polyvar` not defined\nin expression starting at In[1]:5",
      ""
     ]
    }
   ],
   "source": [
    "function solve_polynomial_system(input_alpha, input_beta, input_gamma, input_delta, input_omega, input_funcs, returnnonsingular=false)\n",
    "    n = length(input_alpha) * 2  # number of unknown variables\n",
    "\n",
    "    # Declare variables\n",
    "    @polyvar u[1:n÷2] v[1:n÷2]\n",
    "\n",
    "    # Assign parameters\n",
    "    α = input_alpha\n",
    "    β = input_beta\n",
    "    γ = input_gamma\n",
    "    δ = input_delta\n",
    "    ω = input_omega\n",
    "\n",
    "    # Define the system of equations\n",
    "    f = input_funcs\n",
    "\n",
    "    # Define the system as a polynomial system\n",
    "    system = HomotopyContinuation.System(f)\n",
    "\n",
    "    # Solve the system\n",
    "    result = HomotopyContinuation.solve(system)\n",
    "\n",
    "    # Collect real solutions\n",
    "    real_solutions = []\n",
    "    for sol in result\n",
    "        if HomotopyContinuation.is_real(sol)\n",
    "            push!(real_solutions, sol)\n",
    "        end\n",
    "    end\n",
    "\n",
    "    # Return nonsingular solutions if requested\n",
    "    if returnnonsingular\n",
    "        nonsingular_solutions = []\n",
    "        for sol in real_solutions\n",
    "            if HomotopyContinuation.is_nonsingular(sol)\n",
    "                push!(nonsingular_solutions, sol)\n",
    "            end\n",
    "        end\n",
    "        return real_solutions, nonsingular_solutions\n",
    "    end\n",
    "\n",
    "    return real_solutions\n",
    "end"
   ]
  }
 ],
 "metadata": {
  "kernelspec": {
   "display_name": "Julia 1.10.5",
   "language": "julia",
   "name": "julia-1.10"
  },
  "language_info": {
   "file_extension": ".jl",
   "mimetype": "application/julia",
   "name": "julia",
   "version": "1.10.5"
  }
 },
 "nbformat": 4,
 "nbformat_minor": 2
}
