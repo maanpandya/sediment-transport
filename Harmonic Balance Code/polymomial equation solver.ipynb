{
 "cells": [
  {
   "cell_type": "markdown",
   "metadata": {},
   "source": [
    "## Solving set of polynomial equations using Homotopy Continuation"
   ]
  },
  {
   "cell_type": "markdown",
   "metadata": {},
   "source": [
    "In the following example I have shown how this can be done,  ideally we would want the number of equations to be the same as the number of variables. When this is true n = length of list of input functions. To be on the safer side though, we can enter n manually or depending the the number of point masses we solve for (then n becomes 2n)."
   ]
  },
  {
   "cell_type": "code",
   "execution_count": 58,
   "metadata": {},
   "outputs": [],
   "source": [
    "using HomotopyContinuation\n",
    "using LinearAlgebra\n",
    "using DynamicPolynomials"
   ]
  },
  {
   "cell_type": "code",
   "execution_count": 56,
   "metadata": {},
   "outputs": [
    {
     "name": "stdout",
     "output_type": "stream",
     "text": [
      "PathResult:\n",
      " • return_code → :success\n",
      " • solution → ComplexF64[1.3007933510765368 - 1.313717310304516e-44im, 6.402380053229623 + 1.0838167810012257e-45im]\n",
      " • accuracy → 7.1016e-15\n",
      " • residual → 2.2204e-16\n",
      " • condition_jacobian → 148.46\n",
      " • steps → 46 / 0\n",
      " • extended_precision → false\n",
      " • path_number → 2\n",
      "\n",
      "PathResult:\n",
      " • return_code → :success\n",
      " • solution → ComplexF64[-1.9999999999999905 - 2.1064858766735392e-35im, 6.0000000000000036 - 8.275480229788904e-36im]\n",
      " • accuracy → 1.1054e-20\n",
      " • residual → 8.6516e-37\n",
      " • condition_jacobian → 93.25\n",
      " • steps → 37 / 0\n",
      " • extended_precision → false\n",
      " • path_number → 7\n",
      "\n",
      "PathResult:\n",
      " • return_code → :success\n",
      " • solution → ComplexF64[-0.800793351076541 + 0.0im, 0.09761994677037715 + 5.1510724620250545e-50im]\n",
      " • accuracy → 1.0343e-16\n",
      " • residual → 9.7578e-18\n",
      " • condition_jacobian → 1.2112\n",
      " • steps → 17 / 0\n",
      " • extended_precision → false\n",
      " • path_number → 8\n",
      "\n"
     ]
    }
   ],
   "source": [
    "\n",
    "n = 4 # number of unknown variables\n",
    "\n",
    "# Define parameters\n",
    "δ = 0.1    # damping coefficient\n",
    "ω = 1.5    # frequency\n",
    "α = 1.0    # linear stiffness\n",
    "β = 0.04   # nonlinearity\n",
    "γ = 1.0    # driving force amplitude\n",
    "\n",
    "# declare the variables \n",
    "for i in 1:n÷2\n",
    "    @polyvar u[i] v[i]\n",
    "end\n",
    "@polyvar f[1:n]\n",
    "\n",
    "# this input funcs will take Hew's function as an input containing all the polynomial equations\n",
    "input_funcs = [(ω^2 - α)*u1 - δ*ω*v1 + γ - (3/4)*β*(u1^3 + u1*v1^2), ω*δ*u1 + (ω^2 - α)*v1 - (3/4)*β*(v1^3 + u1^2*v1)]\n",
    "\n",
    "# define the variable f1 to have eqn 1 and f2 to have eqn 2\n",
    "f = input_funcs\n",
    "\n",
    "# Define the system as a polynomial system\n",
    "system = HomotopyContinuation.System(f)\n",
    "\n",
    "# solve the system\n",
    "result = HomotopyContinuation.solve(system)\n",
    "\n",
    "# # display non singular solutions\n",
    "# for sol in result\n",
    "#     if HomotopyContinuation.is_nonsingular(sol)\n",
    "#         println(sol)\n",
    "#     end\n",
    "# end\n",
    "\n",
    "# display real solutions\n",
    "for sol in result\n",
    "    if HomotopyContinuation.is_real(sol)\n",
    "        println(sol)\n",
    "    end\n",
    "end\n",
    "\n"
   ]
  },
  {
   "cell_type": "markdown",
   "metadata": {},
   "source": [
    "This was run with 1 mass, hence one set of parameter values, in the case this is not true we can write a function to take a list containing these values and then later use in the polynomial equations. "
   ]
  },
  {
   "cell_type": "markdown",
   "metadata": {},
   "source": []
  },
  {
   "cell_type": "code",
   "execution_count": 76,
   "metadata": {},
   "outputs": [
    {
     "name": "stdout",
     "output_type": "stream",
     "text": [
      "\u001b[32mTracking 81 paths...   2%|█                             |  ETA: 0:02:14\u001b[39m\u001b[K\n",
      "\n",
      "\n",
      "\n",
      "\u001b[32mTracking 81 paths... 100%|██████████████████████████████| Time: 0:00:03\u001b[39m\u001b[K\n",
      "\u001b[34m  # paths tracked:                  81\u001b[39m\u001b[K\n",
      "\u001b[34m  # non-singular solutions (real):  9 (3)\u001b[39m\u001b[K\n",
      "\u001b[34m  # singular endpoints (real):      0 (0)\u001b[39m\u001b[K\n",
      "\u001b[34m  # total solutions (real):         9 (3)\u001b[39m\u001b[K\n",
      "PathResult:\n",
      " • return_code → :success\n",
      " • solution → ComplexF64[-1.999999999999991 - 5.583598166405866e-38im, -0.9092972094148429 + 0.0im, 6.0000000000000036 - 3.4530146555404696e-38im, 0.2413880779738752 - 9.683056929885334e-70im]\n",
      " • accuracy → 2.6378e-15\n",
      " • residual → 1.3878e-17\n",
      " • condition_jacobian → 87.178\n",
      " • steps → 79 / 0\n",
      " • extended_precision → false\n",
      " • path_number → 55\n",
      "\n",
      "PathResult:\n",
      " • return_code → :success\n",
      " • solution → ComplexF64[-0.8007933510765409 - 2.2958874039497803e-41im, -0.9092972094148429 - 2.2420775429197073e-44im, 0.09761994677037714 + 1.4349296274686127e-42im, 0.2413880779738752 + 0.0im]\n",
      " • accuracy → 1.4048e-16\n",
      " • residual → 1.3878e-17\n",
      " • condition_jacobian → 3.2813\n",
      " • steps → 59 / 0\n",
      " • extended_precision → false\n",
      " • path_number → 76\n",
      "\n",
      "PathResult:\n",
      " • return_code → :success\n",
      " • solution → ComplexF64[1.3007933510765368 + 1.0947644252537633e-47im, -0.9092972094148429 - 1.8445518395510104e-71im, 6.402380053229623 + 2.1895288505075267e-47im, 0.24138807797387518 - 1.448908652612274e-70im]\n",
      " • accuracy → 1.6412e-15\n",
      " • residual → 2.2204e-16\n",
      " • condition_jacobian → 167.16\n",
      " • steps → 70 / 0\n",
      " • extended_precision → false\n",
      " • path_number → 79\n",
      "\n"
     ]
    }
   ],
   "source": [
    "n = 4 # number of unknown variables\n",
    "\n",
    "# declare the variables \n",
    "@polyvar u[1:n÷2] v[1:n÷2]\n",
    "@polyvar f[1:n]\n",
    "\n",
    "# declare the parameters\n",
    "@polyvar α[1:n÷2]\n",
    "@polyvar β[1:n÷2]\n",
    "@polyvar γ[1:n÷2]\n",
    "@polyvar δ[1:n÷2]\n",
    "\n",
    "\n",
    "# this input funcs will take Hew's function as an input containing all the polynomial equations\n",
    "input_alpha = [1.0, 1.1]\n",
    "input_beta = [0.04, 0.03]\n",
    "input_gamma = [1.0, 1.1]\n",
    "input_delta = [0.1, 0.2]\n",
    "input_omega = [1.5]\n",
    "\n",
    "α = input_alpha\n",
    "β = input_beta\n",
    "γ = input_gamma\n",
    "δ = input_delta\n",
    "ω = input_omega\n",
    "\n",
    "input_function = [\n",
    "    (ω[1]^2 - α[1])*u[1] - δ[1]*ω[1]*v[1] + γ[1] - (3/4)*β[1]*(u[1]^3 + u[1]*v[1]^2),\n",
    "    (ω[1]^2 - α[2])*u[2] - δ[2]*ω[1]*v[2] + γ[2] - (3/4)*β[2]*(u[2]^3 + u[2]*v[2]^2),\n",
    "    ω[1]*δ[1]*u[1] + (ω[1]^2 - α[1])*v[1] - (3/4)*β[1]*(v[1]^3 + u[1]^2*v[1]),\n",
    "    ω[1]*δ[2]*u[2] + (ω[1]^2 - α[2])*v[2] - (3/4)*β[2]*(v[2]^3 + u[2]^2*v[2])\n",
    "]\n",
    "\n",
    "f = input_function\n",
    "\n",
    "# Define the system as a polynomial system\n",
    "system = HomotopyContinuation.System(f)\n",
    "\n",
    "# solve the system\n",
    "result = HomotopyContinuation.solve(system)\n",
    "\n",
    "# display real solutions\n",
    "for sol in result\n",
    "    if HomotopyContinuation.is_real(sol)\n",
    "        println(sol)\n",
    "    end\n",
    "end\n",
    "\n",
    "\n",
    "\n",
    "\n",
    "\n",
    "\n",
    "\n"
   ]
  },
  {
   "cell_type": "code",
   "execution_count": null,
   "metadata": {},
   "outputs": [],
   "source": []
  }
 ],
 "metadata": {
  "kernelspec": {
   "display_name": "Julia 1.10.5",
   "language": "julia",
   "name": "julia-1.10"
  },
  "language_info": {
   "file_extension": ".jl",
   "mimetype": "application/julia",
   "name": "julia",
   "version": "1.10.5"
  }
 },
 "nbformat": 4,
 "nbformat_minor": 2
}
