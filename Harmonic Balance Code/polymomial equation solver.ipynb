{
 "cells": [
  {
   "cell_type": "markdown",
   "metadata": {},
   "source": [
    "## Solving set of polynomial equations using Homotopy Continuation"
   ]
  },
  {
   "cell_type": "code",
   "execution_count": 54,
   "metadata": {},
   "outputs": [
    {
     "name": "stdout",
     "output_type": "stream",
     "text": [
      "PathResult:\n",
      " • return_code → :success\n",
      " • solution → ComplexF64[1.3007933510765461 + 1.9983403963978888e-37im, 6.402380053229622 - 1.3518185034456306e-37im]\n",
      " • accuracy → 8.5864e-15\n",
      " • residual → 3.5527e-15\n",
      " • condition_jacobian → 164.32\n",
      " • steps → 47 / 0\n",
      " • extended_precision → false\n",
      " • path_number → 1\n",
      "\n",
      "PathResult:\n",
      " • return_code → :success\n",
      " • solution → ComplexF64[-2.0000000000000093 + 3.3070643758065683e-43im, 5.9999999999999964 + 9.528829557408756e-44im]\n",
      " • accuracy → 2.6642e-15\n",
      " • residual → 8.8818e-16\n",
      " • condition_jacobian → 87.948\n",
      " • steps → 45 / 0\n",
      " • extended_precision → false\n",
      " • path_number → 5\n",
      "\n",
      "PathResult:\n",
      " • return_code → :success\n",
      " • solution → ComplexF64[-0.800793351076541 - 1.4693679385278594e-39im, 0.09761994677037715 + 0.0im]\n",
      " • accuracy → 9.3417e-17\n",
      " • residual → 9.7578e-18\n",
      " • condition_jacobian → 1.2467\n",
      " • steps → 20 / 0\n",
      " • extended_precision → false\n",
      " • path_number → 7\n",
      "\n"
     ]
    }
   ],
   "source": [
    "using HomotopyContinuation\n",
    "using LinearAlgebra\n",
    "using DynamicPolynomials\n",
    "\n",
    "n = 2 # number of unknown variables\n",
    "\n",
    "# Define parameters\n",
    "δ = 0.1    # damping coefficient\n",
    "ω = 1.5    # frequency\n",
    "α = 1.0    # linear stiffness\n",
    "β = 0.04   # nonlinearity\n",
    "γ = 1.0    # driving force amplitude\n",
    "\n",
    "# declare the variables \n",
    "for i in 1:n÷2\n",
    "    @polyvar u[i] v[i]\n",
    "end\n",
    "@polyvar f[1:n]\n",
    "\n",
    "# this input funcs will take Hew's function as an input containing all the polynomial equations\n",
    "input_funcs = [(ω^2 - α)*u1 - δ*ω*v1 + γ - (3/4)*β*(u1^3 + u1*v1^2), ω*δ*u1 + (ω^2 - α)*v1 - (3/4)*β*(v1^3 + u1^2*v1)]\n",
    "\n",
    "# define the variable f1 to have eqn 1 and f2 to have eqn 2\n",
    "f = input_funcs\n",
    "\n",
    "# Define the system as a polynomial system\n",
    "system = HomotopyContinuation.System(f)\n",
    "\n",
    "# solve the system\n",
    "result = HomotopyContinuation.solve(system)\n",
    "\n",
    "# # display non singular solutions\n",
    "# for sol in result\n",
    "#     if HomotopyContinuation.is_nonsingular(sol)\n",
    "#         println(sol)\n",
    "#     end\n",
    "# end\n",
    "\n",
    "# display real solutions\n",
    "for sol in result\n",
    "    if HomotopyContinuation.is_real(sol)\n",
    "        println(sol)\n",
    "    end\n",
    "end\n",
    "\n"
   ]
  },
  {
   "cell_type": "code",
   "execution_count": null,
   "metadata": {},
   "outputs": [],
   "source": []
  }
 ],
 "metadata": {
  "kernelspec": {
   "display_name": "Julia 1.10.5",
   "language": "julia",
   "name": "julia-1.10"
  },
  "language_info": {
   "file_extension": ".jl",
   "mimetype": "application/julia",
   "name": "julia",
   "version": "1.10.5"
  }
 },
 "nbformat": 4,
 "nbformat_minor": 2
}
