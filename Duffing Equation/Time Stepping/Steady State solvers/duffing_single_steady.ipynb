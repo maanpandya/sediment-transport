{
 "cells": [
  {
   "cell_type": "markdown",
   "metadata": {},
   "source": [
    "## Steady State Solver to solve Duffing Equation model"
   ]
  },
  {
   "cell_type": "markdown",
   "metadata": {},
   "source": [
    "We will use SteadyStateDiffEq.jl to find the steady state solution of the following system of equations:\n",
    "\n",
    "$$\\delta \\dot{u}  + 2\\omega \\dot{v} = (\\omega^2 - \\alpha)u - \\delta \\omega v+ \\gamma - \\frac{3}{4}\\beta(u^3 + uv^2)$$\n",
    "$$ -2\\omega \\dot{u} - \\omega^2 \\dot{v} = \\omega \\delta u + (\\omega^2 - \\alpha)v - \\frac{3}{4}\\beta (v^3 + u^2v)\n"
   ]
  },
  {
   "cell_type": "markdown",
   "metadata": {},
   "source": [
    "which were obtained after substituting the anzats and the respective coefficients in the duffing equation.\n",
    "\n",
    "To obtain the steady state solution, the LHS of these equations would be set to 0 and we will solve the nonlinear system of equations."
   ]
  },
  {
   "cell_type": "code",
   "execution_count": 33,
   "metadata": {},
   "outputs": [],
   "source": [
    "# import packages\n",
    "using Plots\n",
    "using HomotopyContinuation\n",
    "using DynamicPolynomials"
   ]
  },
  {
   "cell_type": "code",
   "execution_count": 71,
   "metadata": {},
   "outputs": [
    {
     "name": "stdout",
     "output_type": "stream",
     "text": [
      "8th solution:\n",
      "PathResult:\n",
      " • return_code → :success\n",
      " • solution → ComplexF64[-1.1672216022031983 - 17.310107299069816im, 19.988913593750976 - 1.1552879524288446im]\n",
      " • accuracy → 1.0095e-16\n",
      " • residual → 8.6441e-14\n",
      " • condition_jacobian → 2099.5\n",
      " • steps → 42 / 0\n",
      " • extended_precision → false\n",
      " • path_number → 1\n",
      "\n"
     ]
    }
   ],
   "source": [
    "# Define variables\n",
    "@polyvar u v\n",
    "\n",
    "# Define parameters\n",
    "δ = 0.1    # damping coefficient\n",
    "ω = 2    # frequency\n",
    "α = 1.0    # linear stiffness\n",
    "β = 0.04   # nonlinearity\n",
    "γ = 1.0    # driving force amplitude\n",
    "\n",
    "# Define the system of equations\n",
    "f1 = (ω^2 - α)*u - δ*ω*v + γ - (3/4)*β*(u^3 + u*v^2)\n",
    "f2 = ω*δ*u + (ω^2 - α)*v - (3/4)*β*(v^3 + u^2*v)\n",
    "\n",
    "# Define system as a polynomial system\n",
    "system = HomotopyContinuation.System([f1, f2])  # This creates a valid polynomial system\n",
    "\n",
    "# Solve the system\n",
    "result = HomotopyContinuation.solve(system)\n",
    "\n",
    "# # Display solutions\n",
    "# println(\"Solutions:\")\n",
    "# for sol in result\n",
    "#     println(sol)\n",
    "# end\n",
    "\n",
    "# print 8th solution\n",
    "println(\"8th solution:\")\n",
    "println(result[1])\n",
    "\n",
    "# # find the real part of the 8th solution\n",
    "# eighth_solution = result[6].solution\n",
    "# real_part = real(eighth_solution)\n",
    "# println(\"Real part of the 8th solution:\")\n",
    "# println(real_part)\n",
    "\n",
    "\n"
   ]
  },
  {
   "cell_type": "code",
   "execution_count": null,
   "metadata": {},
   "outputs": [],
   "source": []
  }
 ],
 "metadata": {
  "kernelspec": {
   "display_name": "Julia 1.10.5",
   "language": "julia",
   "name": "julia-1.10"
  },
  "language_info": {
   "file_extension": ".jl",
   "mimetype": "application/julia",
   "name": "julia",
   "version": "1.10.5"
  }
 },
 "nbformat": 4,
 "nbformat_minor": 2
}
