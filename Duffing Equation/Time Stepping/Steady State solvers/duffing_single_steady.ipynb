{
 "cells": [
  {
   "cell_type": "markdown",
   "metadata": {},
   "source": [
    "## Steady State Solver to solve Duffing Equation model"
   ]
  },
  {
   "cell_type": "markdown",
   "metadata": {},
   "source": [
    "We will use SteadyStateDiffEq.jl to find the steady state solution of the following system of equations:\n",
    "\n",
    "$$\\delta \\dot{u}  + 2\\omega \\dot{v} = (\\omega^2 - \\alpha)u - \\delta \\omega v+ \\gamma - \\frac{3}{4}\\beta(u^3 + uv^2)$$\n",
    "$$ -2\\omega \\dot{u} - \\omega^2 \\dot{v} = \\omega \\delta u + (\\omega^2 - \\alpha)v - \\frac{3}{4}\\beta (v^3 + u^2v)\n"
   ]
  },
  {
   "cell_type": "markdown",
   "metadata": {},
   "source": [
    "which were obtained after substituting the anzats and the respective coefficients in the duffing equation.\n",
    "\n",
    "To obtain the steady state solution, the LHS of these equations would be set to 0 and we will solve the nonlinear system of equations."
   ]
  },
  {
   "cell_type": "code",
   "execution_count": 33,
   "metadata": {},
   "outputs": [],
   "source": [
    "# import packages\n",
    "using Plots\n",
    "using HomotopyContinuation\n",
    "using DynamicPolynomials"
   ]
  },
  {
   "cell_type": "code",
   "execution_count": 44,
   "metadata": {},
   "outputs": [
    {
     "name": "stdout",
     "output_type": "stream",
     "text": [
      "Solutions:\n",
      "PathResult:\n",
      " • return_code → :success\n",
      " • solution → ComplexF64[3.8163594195314796 + 2.204051907791789e-39im, 2.494389210003308 - 4.408103815583578e-39im]\n",
      " • accuracy → 4.6087e-16\n",
      " • residual → 2.2204e-16\n",
      " • condition_jacobian → 8.493\n",
      " • steps → 52 / 0\n",
      " • extended_precision → false\n",
      " • path_number → 1\n",
      "\n",
      "PathResult:\n",
      " • return_code → :at_infinity\n",
      " • solution → ComplexF64[752.2070559456873 + 256.2119082010099im, 256.21250088372705 - 752.1975027069263im]\n",
      " • accuracy → NaN\n",
      " • residual → 3.6993e-9\n",
      " • condition_jacobian → NaN\n",
      " • steps → 82 / 0\n",
      " • extended_precision → false\n",
      " • path_number → 2\n",
      "\n",
      "PathResult:\n",
      " • return_code → :success\n",
      " • solution → ComplexF64[-2.388179709765739 + 1.0891442829090308im, 0.5128053949983453 - 0.7118694674094938im]\n",
      " • accuracy → 1.2357e-16\n",
      " • residual → 1.3184e-16\n",
      " • condition_jacobian → 4.8537\n",
      " • steps → 62 / 0\n",
      " • extended_precision → false\n",
      " • path_number → 3\n",
      "\n",
      "PathResult:\n",
      " • return_code → :at_infinity\n",
      " • solution → ComplexF64[-419.5942577960235 + 367.3550035989332im, -367.3609570992891 - 419.5819949141092im]\n",
      " • accuracy → NaN\n",
      " • residual → 1.1939e-9\n",
      " • condition_jacobian → NaN\n",
      " • steps → 86 / 0\n",
      " • extended_precision → false\n",
      " • path_number → 4\n",
      "\n",
      "PathResult:\n",
      " • return_code → :at_infinity\n",
      " • solution → ComplexF64[-655.5633151834854 + 572.3688416155693im, 572.3761105876326 + 655.5584763391943im]\n",
      " • accuracy → NaN\n",
      " • residual → 6.1971e-9\n",
      " • condition_jacobian → NaN\n",
      " • steps → 86 / 0\n",
      " • extended_precision → false\n",
      " • path_number → 5\n",
      "\n",
      "PathResult:\n",
      " • return_code → :at_infinity\n",
      " • solution → ComplexF64[-109.34415472359171 - 556.3363757943979im, -556.3483760168604 + 109.33819392925965im]\n",
      " • accuracy → NaN\n",
      " • residual → 7.4702e-10\n",
      " • condition_jacobian → NaN\n",
      " • steps → 80 / 0\n",
      " • extended_precision → false\n",
      " • path_number → 6\n",
      "\n",
      "PathResult:\n",
      " • return_code → :at_infinity\n",
      " • solution → ComplexF64[584.8837961899475 + 200.24669110465504im, -200.25359365881147 + 584.873611474614im]\n",
      " • accuracy → NaN\n",
      " • residual → 3.37e-9\n",
      " • condition_jacobian → NaN\n",
      " • steps → 62 / 0\n",
      " • extended_precision → false\n",
      " • path_number → 7\n",
      "\n",
      "PathResult:\n",
      " • return_code → :at_infinity\n",
      " • solution → ComplexF64[-114.45141576525857 - 581.100727336809im, 581.1135184492343 - 114.45233130370872im]\n",
      " • accuracy → NaN\n",
      " • residual → 1.1163e-9\n",
      " • condition_jacobian → NaN\n",
      " • steps → 77 / 0\n",
      " • extended_precision → false\n",
      " • path_number → 8\n",
      "\n",
      "PathResult:\n",
      " • return_code → :success\n",
      " • solution → ComplexF64[-2.388179709765739 - 1.0891442829090305im, 0.5128053949983454 + 0.7118694674094936im]\n",
      " • accuracy → 4.2123e-16\n",
      " • residual → 3.1032e-17\n",
      " • condition_jacobian → 4.7547\n",
      " • steps → 49 / 0\n",
      " • extended_precision → false\n",
      " • path_number → 9\n",
      "\n"
     ]
    }
   ],
   "source": [
    "# Define variables\n",
    "@polyvar u v\n",
    "\n",
    "# Define parameters\n",
    "δ = 0.1    # damping coefficient\n",
    "ω = 1.2    # frequency\n",
    "α = 1.0    # linear stiffness\n",
    "β = 0.04   # nonlinearity\n",
    "γ = 1.0    # driving force amplitude\n",
    "\n",
    "# Define the system of equations\n",
    "f1 = (ω^2 - α)*u - δ*ω*v + γ - (3/4)*β*(u^3 + u*v^2)\n",
    "f2 = ω*δ*u + (ω^2 - α)*v - (3/4)*β*(v^3 + u^2*v)\n",
    "\n",
    "# Define system as a polynomial system\n",
    "system = HomotopyContinuation.System([f1, f2])  # This creates a valid polynomial system\n",
    "\n",
    "# Solve the system\n",
    "result = HomotopyContinuation.solve(system)\n",
    "\n",
    "# Display solutions\n",
    "println(\"Solutions:\")\n",
    "for sol in result\n",
    "    println(sol)\n",
    "end"
   ]
  },
  {
   "cell_type": "code",
   "execution_count": null,
   "metadata": {},
   "outputs": [],
   "source": []
  }
 ],
 "metadata": {
  "kernelspec": {
   "display_name": "Julia 1.10.5",
   "language": "julia",
   "name": "julia-1.10"
  },
  "language_info": {
   "file_extension": ".jl",
   "mimetype": "application/julia",
   "name": "julia",
   "version": "1.10.5"
  }
 },
 "nbformat": 4,
 "nbformat_minor": 2
}
