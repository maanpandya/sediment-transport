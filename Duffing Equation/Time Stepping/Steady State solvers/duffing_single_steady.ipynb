{
 "cells": [
  {
   "cell_type": "markdown",
   "metadata": {},
   "source": [
    "## Steady State Solver to solve Duffing Equation model"
   ]
  },
  {
   "cell_type": "markdown",
   "metadata": {},
   "source": [
    "We will use SteadyStateDiffEq.jl to find the steady state solution of the following system of equations:\n",
    "\n",
    "$$\\delta \\dot{u}  + 2\\omega \\dot{v} = (\\omega^2 - \\alpha)u - \\delta \\omega v+ \\gamma - \\frac{3}{4}\\beta(u^3 + uv^2)$$\n",
    "$$ -2\\omega \\dot{u} - \\omega^2 \\dot{v} = \\omega \\delta u + (\\omega^2 - \\alpha)v - \\frac{3}{4}\\beta (v^3 + u^2v)"
   ]
  },
  {
   "cell_type": "markdown",
   "metadata": {},
   "source": [
    "which were obtained after substituting the anzats and the respective coefficients in the duffing equation."
   ]
  },
  {
   "cell_type": "code",
   "execution_count": 1,
   "metadata": {},
   "outputs": [],
   "source": [
    "# import library\n",
    "using DifferentialEquations"
   ]
  },
  {
   "cell_type": "code",
   "execution_count": 7,
   "metadata": {},
   "outputs": [
    {
     "ename": "ErrorException",
     "evalue": "syntax: \"(delta * du[1])\" is not a valid function argument name around c:\\Users\\rimaz\\Desktop\\sediment-transport\\Duffing Equation\\Time Stepping\\Steady State solvers\\jl_notebook_cell_df34fa98e69747e1a8f8a730347b8e2f_W6sZmlsZQ==.jl:4",
     "output_type": "error",
     "traceback": [
      "syntax: \"(delta * du[1])\" is not a valid function argument name around c:\\Users\\rimaz\\Desktop\\sediment-transport\\Duffing Equation\\Time Stepping\\Steady State solvers\\jl_notebook_cell_df34fa98e69747e1a8f8a730347b8e2f_W6sZmlsZQ==.jl:4\n",
      "\n",
      "Stacktrace:\n",
      " [1] top-level scope\n",
      "   @ c:\\Users\\rimaz\\Desktop\\sediment-transport\\Duffing Equation\\Time Stepping\\Steady State solvers\\jl_notebook_cell_df34fa98e69747e1a8f8a730347b8e2f_W6sZmlsZQ==.jl:2"
     ]
    }
   ],
   "source": [
    "# define they system of ODEs\n",
    "function single_mass_duffing(du, u, p, t)\n",
    "    alpha, beta, delta, gamma, omega = p\n",
    "    delta* du[1] + 2*omega* du[2] = (omega^2 - alpha)* u[1] - delta* omega* u[2]  + gamma - (3/4)* beta * (u[1]^3 + u[1]* u[2]^2)\n",
    "    -2* omega* du[1] - omega^2 * du[2] = omega* delta * du[1] + (omega^2 - alpha)* u[2] - (3/4)* beta * (u[2]^3 + u[2]* u[1]^2) \n",
    "end\n"
   ]
  },
  {
   "cell_type": "code",
   "execution_count": null,
   "metadata": {},
   "outputs": [],
   "source": []
  }
 ],
 "metadata": {
  "kernelspec": {
   "display_name": "Julia 1.10.5",
   "language": "julia",
   "name": "julia-1.10"
  },
  "language_info": {
   "file_extension": ".jl",
   "mimetype": "application/julia",
   "name": "julia",
   "version": "1.10.5"
  }
 },
 "nbformat": 4,
 "nbformat_minor": 2
}
