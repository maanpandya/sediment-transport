{
 "cells": [
  {
   "cell_type": "code",
   "execution_count": 1,
   "metadata": {},
   "outputs": [],
   "source": [
    "using DifferentialEquations"
   ]
  },
  {
   "cell_type": "code",
   "execution_count": 2,
   "metadata": {},
   "outputs": [
    {
     "data": {
      "text/plain": [
       "duffing_harmonic_balance! (generic function with 1 method)"
      ]
     },
     "execution_count": 2,
     "metadata": {},
     "output_type": "execute_result"
    }
   ],
   "source": [
    "function duffing_harmonic_balance!(du, u, p, t)\n",
    "    # Unpack parameters\n",
    "    alpha, beta, delta, gamma, omega = p\n",
    "    # Unpack variables\n",
    "    u1, v1 = u\n",
    "    # Compute determinant D\n",
    "    D = (4 - delta) * omega^2\n",
    "    # Compute adjugate elements\n",
    "    adj11 = -omega^2\n",
    "    adj12 = -2 * omega\n",
    "    adj21 = 2 * omega\n",
    "    adj22 = delta\n",
    "    # Compute F1 and F2\n",
    "    F1 = (omega^2 - alpha) * u1 - delta * omega * v1 + gamma - (3 / 4) * beta * (u1^3 + u1 * v1^2)\n",
    "    F2 = delta * omega * u1 + (omega^2 - alpha) * v1 - (3 / 4) * beta * (v1^3 + u1^2 * v1)\n",
    "    # Compute derivatives\n",
    "    du[1] = (adj11 * F1 + adj12 * F2) / D\n",
    "    du[2] = (adj21 * F1 + adj22 * F2) / D\n",
    "end"
   ]
  },
  {
   "cell_type": "code",
   "execution_count": null,
   "metadata": {},
   "outputs": [
    {
     "name": "stdout",
     "output_type": "stream",
     "text": [
      "Steady-state solution: [3.816359419531479, 2.4943892100033094]\n",
      "Steady-state solution magnitude: 4.559229841763583\n"
     ]
    }
   ],
   "source": [
    "# Parameters\n",
    "alpha = 1.0   # Example value\n",
    "beta = 0.04    # Example value\n",
    "delta = 0.1  # Example value\n",
    "gamma = 1   # Example value\n",
    "omega = 1.2   # Example value\n",
    "\n",
    "p = [alpha, beta, delta, gamma, omega]\n",
    "\n",
    "# Initial guess for u and v\n",
    "u0 = [0.1, 0.1]\n",
    "\n",
    "# Define the steady-state problem\n",
    "prob = SteadyStateProblem(duffing_harmonic_balance!, u0, p)\n",
    "\n",
    "# Solve the steady-state problem\n",
    "sol = solve(prob)\n",
    "\n",
    "# Extract the steady-state solution\n",
    "u_ss = sol.u\n",
    "println(\"Steady-state solution: \", u_ss)\n",
    "#Print sqrt(u^2 + v^2) (magnitude of the solution)\n",
    "println(\"Steady-state solution magnitude: \", sqrt(u_ss[1]^2 + u_ss[2]^2))"
   ]
  },
  {
   "cell_type": "code",
   "execution_count": 10,
   "metadata": {},
   "outputs": [
    {
     "name": "stdout",
     "output_type": "stream",
     "text": [
      "Residuals at steady state: [2.0875988497225166e-16, -1.937354993113699e-16]\n"
     ]
    }
   ],
   "source": [
    "# Compute residuals at steady state\n",
    "du = zeros(2)\n",
    "duffing_harmonic_balance!(du, u_ss, p, 0.0)\n",
    "println(\"Residuals at steady state: \", du)"
   ]
  }
 ],
 "metadata": {
  "kernelspec": {
   "display_name": "Julia 1.10.5",
   "language": "julia",
   "name": "julia-1.10"
  },
  "language_info": {
   "file_extension": ".jl",
   "mimetype": "application/julia",
   "name": "julia",
   "version": "1.10.5"
  }
 },
 "nbformat": 4,
 "nbformat_minor": 2
}
